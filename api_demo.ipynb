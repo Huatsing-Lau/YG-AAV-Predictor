{
 "cells": [
  {
   "cell_type": "code",
   "execution_count": 1,
   "id": "e31a9678-a748-48e6-8c4f-a7d3bebc68d7",
   "metadata": {},
   "outputs": [],
   "source": [
    "import requests\n",
    "import time\n",
    "\n",
    "API_BASE_URL = 'https://rddc.tsinghua-gd.org'\n",
    "# API endpoints\n",
    "API_SUBMIT = '/api/bio/aav'\n",
    "API_TASK = '/api/bio/aav/tasks'"
   ]
  },
  {
   "cell_type": "code",
   "execution_count": 2,
   "id": "a352ab1c-fa2c-445b-91b8-0adee0ea2826",
   "metadata": {},
   "outputs": [],
   "source": [
    "# example\n",
    "data = {\n",
    "    'sereotype': 'aav2',\n",
    "    'sequences': [\n",
    "        {'name': 'sequence 1', 'sequence': 'TTTGATTTGGCGCTTACTAATACG'},\n",
    "        {'name': 'sequence 2', 'sequence': 'CCTGGGACTTCTTTTCTGGTG'},\n",
    "        {'name': 'sequence 3', 'sequence': 'GGTTCGACTAGGTGTCCGGATTCG'},\n",
    "        {'name': 'sequence 4', 'sequence': 'CCTATTCGTGATGGTGGTATGATGATG'},\n",
    "        {'name': 'sequence 5', 'sequence': 'CCTCCTACGTTGGAGCAGCGGCCTTTTGTT'}\n",
    "    ]\n",
    "}"
   ]
  },
  {
   "cell_type": "code",
   "execution_count": 10,
   "id": "b712f799-a1ce-40dd-a038-96441c36aa31",
   "metadata": {},
   "outputs": [
    {
     "name": "stdout",
     "output_type": "stream",
     "text": [
      "✅ Task submitted successfully. Task ID: a3374ff6c01a4896b1b41190950553fc\n",
      "⏳ Attempt 1/100: Task is still RUNNING...\n",
      "⏳ Attempt 2/100: Task is still RUNNING...\n",
      "🎉 Task completed successfully.\n",
      "\n",
      "ID                  Sequence                                Score\n",
      "----------------------------------------------------------------------\n",
      "sequence 1          TTTGATTTGGCGCTTACTAATACG                1.884\n",
      "sequence 2          CCTGGGACTTCTTTTCTGGTG                  -1.539\n",
      "sequence 3          GGTTCGACTAGGTGTCCGGATTCG                0.026\n",
      "sequence 4          CCTATTCGTGATGGTGGTATGATGATG             1.832\n",
      "sequence 5          CCTCCTACGTTGGAGCAGCGGCCTTTTGTT          0.205\n"
     ]
    }
   ],
   "source": [
    "# Submit the data to the server\n",
    "response = requests.post(f'{API_BASE_URL}{API_SUBMIT}', json=data)\n",
    "\n",
    "# Check if submission was successful\n",
    "response.raise_for_status()\n",
    "\n",
    "# Retrieve the task ID from the response\n",
    "task_id = response.text.strip()\n",
    "print(f\"✅ Task submitted successfully. Task ID: {task_id}\")\n",
    "\n",
    "# Poll the server every second for up to 100 seconds\n",
    "for attempt in range(100):\n",
    "    time.sleep(1)  # Wait before polling\n",
    "    task_response = requests.post(f'{API_BASE_URL}{API_TASK}', json={\"id\": task_id})\n",
    "    task_response.raise_for_status()\n",
    "    \n",
    "    result_json = task_response.json()\n",
    "    status = result_json.get(\"status\")\n",
    "\n",
    "    if status == \"SUCCESS\":\n",
    "        print(\"🎉 Task completed successfully.\\n\")\n",
    "        result = result_json[\"data\"]\n",
    "        \n",
    "        print(f\"{'ID':<20}{'Sequence':<35}{'Score':>10}\")\n",
    "        print(\"-\" * 70)\n",
    "        for item in result:\n",
    "            print(f\"{item['id']:<20}{item['sequence']:<35}{float(item['score']):>10.3f}\")\n",
    "        break\n",
    "\n",
    "    elif status == \"FAILE\":\n",
    "        raise Exception(\"❌ Task failed on the server side.\")\n",
    "\n",
    "    else:\n",
    "        print(f\"⏳ Attempt {attempt + 1}/100: Task is still {status}...\")"
   ]
  },
  {
   "cell_type": "code",
   "execution_count": null,
   "id": "77b9e61a-349b-4b3a-9a50-4e8e285d17bb",
   "metadata": {},
   "outputs": [],
   "source": []
  }
 ],
 "metadata": {
  "kernelspec": {
   "display_name": "Python 3 (ipykernel)",
   "language": "python",
   "name": "python3"
  },
  "language_info": {
   "codemirror_mode": {
    "name": "ipython",
    "version": 3
   },
   "file_extension": ".py",
   "mimetype": "text/x-python",
   "name": "python",
   "nbconvert_exporter": "python",
   "pygments_lexer": "ipython3",
   "version": "3.10.14"
  }
 },
 "nbformat": 4,
 "nbformat_minor": 5
}
